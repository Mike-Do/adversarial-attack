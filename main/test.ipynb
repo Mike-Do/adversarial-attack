{
 "cells": [
  {
   "cell_type": "code",
   "execution_count": 5,
   "metadata": {},
   "outputs": [],
   "source": [
    "import pickle as pk\n",
    "import matplotlib.pyplot as plt\n",
    "import tensorflow as tf\n",
    "from cnn import CNN\n",
    "import numpy as np\n",
    "model_filepath=\"../models/vanilla\"\n",
    "model = tf.keras.models.load_model(model_filepath, custom_objects={\"loss\": CNN.loss})"
   ]
  },
  {
   "cell_type": "code",
   "execution_count": 6,
   "metadata": {},
   "outputs": [],
   "source": [
    "source = 7\n",
    "target = 1"
   ]
  },
  {
   "cell_type": "code",
   "execution_count": 7,
   "metadata": {},
   "outputs": [
    {
     "data": {
      "image/png": "[encoded data removed]",
      "text/plain": [
       "<Figure size 640x480 with 1 Axes>"
      ]
     },
     "metadata": {},
     "output_type": "display_data"
    }
   ],
   "source": [
    "input_filepath=f\"../data/{source}p{target}.pk\"\n",
    "with open(input_filepath, \"rb\") as fd:\n",
    "    xp = pk.load(fd)\n",
    "xp = tf.reshape(xp, [1, 28, 28, 1])\n",
    "plt.imshow(xp[0], cmap='gray')\n",
    "plt.show()"
   ]
  },
  {
   "cell_type": "code",
   "execution_count": 8,
   "metadata": {},
   "outputs": [
    {
     "name": "stdout",
     "output_type": "stream",
     "text": [
      "7\n"
     ]
    },
    {
     "data": {
      "image/png": "[encoded data removed]",
      "text/plain": [
       "<Figure size 640x480 with 1 Axes>"
      ]
     },
     "metadata": {},
     "output_type": "display_data"
    }
   ],
   "source": [
    "# load MNIST\n",
    "(x_train, y_train), (x_test, y_test) = tf.keras.datasets.mnist.load_data()\n",
    "x_train = (x_train / 255) - 0.5\n",
    "x_train = np.reshape(x_train, (-1, 28, 28, 1))\n",
    "x_test = (x_test / 255) - 0.5\n",
    "x_test = np.reshape(x_test, (-1, 28, 28, 1))\n",
    "\n",
    "# find image that matches source\n",
    "index = tf.where(y_test == source)[0][0]\n",
    "print(y_test[index])\n",
    "plt.imshow(x_test[index], cmap='gray')\n",
    "plt.show()"
   ]
  },
  {
   "cell_type": "code",
   "execution_count": 9,
   "metadata": {},
   "outputs": [
    {
     "name": "stdout",
     "output_type": "stream",
     "text": [
      "313/313 [==============================] - 1s 4ms/step\n",
      "pred 7\n"
     ]
    }
   ],
   "source": [
    "# predicting original image\n",
    "pred = model.predict(x_test)\n",
    "pred = tf.nn.softmax(pred, axis=1)\n",
    "pred = np.argmax(pred, axis=1)\n",
    "print(f\"pred {pred[index]}\")"
   ]
  },
  {
   "cell_type": "code",
   "execution_count": 10,
   "metadata": {},
   "outputs": [
    {
     "name": "stdout",
     "output_type": "stream",
     "text": [
      "1/1 [==============================] - 0s 27ms/step\n",
      "pred [1]\n"
     ]
    }
   ],
   "source": [
    "# predicting perturbed image\n",
    "pred = model.predict(xp)\n",
    "pred = tf.nn.softmax(pred, axis=1)\n",
    "pred = np.argmax(pred, axis=1)\n",
    "print(f\"pred {pred}\")"
   ]
  },
  {
   "cell_type": "code",
   "execution_count": 18,
   "metadata": {},
   "outputs": [
    {
     "name": "stdout",
     "output_type": "stream",
     "text": [
      "0\n",
      "1\n",
      "2\n",
      "3\n",
      "4\n",
      "5\n",
      "6\n",
      "7\n",
      "8\n",
      "9\n"
     ]
    }
   ],
   "source": [
    "# write a script that uses np.where to loop through every digit and generate the source digit\n",
    "(x_train, y_train), (x_test, y_test) = tf.keras.datasets.mnist.load_data()\n",
    "x_train = (x_train / 255) - 0.5\n",
    "x_train = np.reshape(x_train, (-1, 28, 28, 1))\n",
    "x_test = (x_test / 255) - 0.5\n",
    "x_test = np.reshape(x_test, (-1, 28, 28, 1))\n",
    "\n",
    "for i in range(10):\n",
    "    index = tf.where(y_test == i)[0][0]\n",
    "    print(y_test[index])\n",
    "    # dump to file pk\n",
    "    output_filepath=f\"../data/{i}p{i}.pk\"\n",
    "    with open(output_filepath, \"wb\") as fd:\n",
    "        pk.dump(x_test[index], fd)"
   ]
  }
 ],
 "metadata": {
  "kernelspec": {
   "display_name": "base",
   "language": "python",
   "name": "python3"
  },
  "language_info": {
   "codemirror_mode": {
    "name": "ipython",
    "version": 3
   },
   "file_extension": ".py",
   "mimetype": "text/x-python",
   "name": "python",
   "nbconvert_exporter": "python",
   "pygments_lexer": "ipython3",
   "version": "3.10.9"
  },
  "orig_nbformat": 4
 },
 "nbformat": 4,
 "nbformat_minor": 2
}
